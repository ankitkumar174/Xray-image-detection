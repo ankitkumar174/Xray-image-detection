{
  "nbformat": 4,
  "nbformat_minor": 0,
  "metadata": {
    "colab": {
      "name": "Xray image detection.ipynb",
      "provenance": [],
      "collapsed_sections": []
    },
    "kernelspec": {
      "name": "python3",
      "display_name": "Python 3"
    },
    "language_info": {
      "name": "python"
    },
    "accelerator": "GPU"
  },
  "cells": [
    {
      "cell_type": "code",
      "metadata": {
        "colab": {
          "base_uri": "https://localhost:8080/"
        },
        "id": "_80fkDTLtVY0",
        "outputId": "76334aae-9acd-47e1-946d-13f706be4d3f"
      },
      "source": [
        "# Get helper_functions.py script from course GitHub\n",
        "!wget https://raw.githubusercontent.com/mrdbourke/tensorflow-deep-learning/main/extras/helper_functions.py \n",
        "\n",
        "# Import helper functions we're going to use\n",
        "from helper_functions import create_tensorboard_callback, plot_loss_curves, unzip_data, walk_through_dir"
      ],
      "execution_count": 19,
      "outputs": [
        {
          "output_type": "stream",
          "name": "stdout",
          "text": [
            "--2021-12-02 13:26:04--  https://raw.githubusercontent.com/mrdbourke/tensorflow-deep-learning/main/extras/helper_functions.py\n",
            "Resolving raw.githubusercontent.com (raw.githubusercontent.com)... 185.199.109.133, 185.199.111.133, 185.199.108.133, ...\n",
            "Connecting to raw.githubusercontent.com (raw.githubusercontent.com)|185.199.109.133|:443... connected.\n",
            "HTTP request sent, awaiting response... 200 OK\n",
            "Length: 10246 (10K) [text/plain]\n",
            "Saving to: ‘helper_functions.py.1’\n",
            "\n",
            "\rhelper_functions.py   0%[                    ]       0  --.-KB/s               \rhelper_functions.py 100%[===================>]  10.01K  --.-KB/s    in 0s      \n",
            "\n",
            "2021-12-02 13:26:04 (78.9 MB/s) - ‘helper_functions.py.1’ saved [10246/10246]\n",
            "\n"
          ]
        }
      ]
    },
    {
      "cell_type": "code",
      "metadata": {
        "colab": {
          "base_uri": "https://localhost:8080/"
        },
        "id": "1uUk-0a9ti-X",
        "outputId": "0f557530-b7a6-4ec5-8642-79f9a1af457c"
      },
      "source": [
        "import os \n",
        "\n",
        "\n",
        "os.environ['KAGGLE_USERNAME'] = \"ankitkumar2117\"\n",
        "\n",
        "os.environ['KAGGLE_KEY'] = \"b553e85b776c6041763213a2f543c737\"\n",
        "\n",
        "! kaggle datasets download -d vikasbhadoria/pneumonia-covid-19-xray-dataset"
      ],
      "execution_count": 20,
      "outputs": [
        {
          "output_type": "stream",
          "name": "stdout",
          "text": [
            "pneumonia-covid-19-xray-dataset.zip: Skipping, found more recently modified local copy (use --force to force download)\n"
          ]
        }
      ]
    },
    {
      "cell_type": "code",
      "metadata": {
        "id": "-8ufHbZjti5P"
      },
      "source": [
        "unzip_data('pneumonia-covid-19-xray-dataset.zip')"
      ],
      "execution_count": 21,
      "outputs": []
    },
    {
      "cell_type": "code",
      "metadata": {
        "colab": {
          "base_uri": "https://localhost:8080/"
        },
        "id": "XDpJR75Bti2R",
        "outputId": "bd83682e-6b30-4747-ddc1-71a95a78cc32"
      },
      "source": [
        "walk_through_dir('Xray images dataset')"
      ],
      "execution_count": 22,
      "outputs": [
        {
          "output_type": "stream",
          "name": "stdout",
          "text": [
            "There are 2 directories and 1 images in 'Xray images dataset'.\n",
            "There are 4 directories and 0 images in 'Xray images dataset/Test'.\n",
            "There are 0 directories and 10 images in 'Xray images dataset/Test/0'.\n",
            "There are 0 directories and 10 images in 'Xray images dataset/Test/1'.\n",
            "There are 0 directories and 10 images in 'Xray images dataset/Test/2'.\n",
            "There are 0 directories and 10 images in 'Xray images dataset/Test/3'.\n",
            "There are 4 directories and 0 images in 'Xray images dataset/Dataset'.\n",
            "There are 0 directories and 133 images in 'Xray images dataset/Dataset/0'.\n",
            "There are 0 directories and 133 images in 'Xray images dataset/Dataset/1'.\n",
            "There are 0 directories and 133 images in 'Xray images dataset/Dataset/2'.\n",
            "There are 0 directories and 133 images in 'Xray images dataset/Dataset/3'.\n"
          ]
        }
      ]
    },
    {
      "cell_type": "code",
      "metadata": {
        "id": "cKG8DZ6ttilT"
      },
      "source": [
        "train= \"Xray images dataset/Dataset/\"\n",
        "test= \"Xray images dataset/Test/\""
      ],
      "execution_count": 23,
      "outputs": []
    },
    {
      "cell_type": "code",
      "metadata": {
        "colab": {
          "base_uri": "https://localhost:8080/"
        },
        "id": "Afnje5WBtiiY",
        "outputId": "8767dba4-5364-4fcf-cfd1-f8ecca514f03"
      },
      "source": [
        "walk_through_dir(train)"
      ],
      "execution_count": 24,
      "outputs": [
        {
          "output_type": "stream",
          "name": "stdout",
          "text": [
            "There are 4 directories and 0 images in 'Xray images dataset/Dataset/'.\n",
            "There are 0 directories and 133 images in 'Xray images dataset/Dataset/0'.\n",
            "There are 0 directories and 133 images in 'Xray images dataset/Dataset/1'.\n",
            "There are 0 directories and 133 images in 'Xray images dataset/Dataset/2'.\n",
            "There are 0 directories and 133 images in 'Xray images dataset/Dataset/3'.\n"
          ]
        }
      ]
    },
    {
      "cell_type": "code",
      "metadata": {
        "colab": {
          "base_uri": "https://localhost:8080/"
        },
        "id": "BZnJUv2otifn",
        "outputId": "16027e32-ccda-4b6a-89f7-f3d6f39aefd3"
      },
      "source": [
        "walk_through_dir(test)"
      ],
      "execution_count": 25,
      "outputs": [
        {
          "output_type": "stream",
          "name": "stdout",
          "text": [
            "There are 4 directories and 0 images in 'Xray images dataset/Test/'.\n",
            "There are 0 directories and 10 images in 'Xray images dataset/Test/0'.\n",
            "There are 0 directories and 10 images in 'Xray images dataset/Test/1'.\n",
            "There are 0 directories and 10 images in 'Xray images dataset/Test/2'.\n",
            "There are 0 directories and 10 images in 'Xray images dataset/Test/3'.\n"
          ]
        }
      ]
    },
    {
      "cell_type": "code",
      "metadata": {
        "id": "AacXUo7uS0Lo"
      },
      "source": [
        "# View an image\n",
        "import matplotlib.pyplot as plt\n",
        "import matplotlib.image as mpimg\n",
        "import random\n",
        "import os\n",
        "\n",
        "def view_random_image(target_dir, target_class):\n",
        "  # Setup target directory (we'll view images from here)\n",
        "  target_folder = target_dir+target_class\n",
        "\n",
        "  # Get a random image path\n",
        "  random_image = random.sample(os.listdir(target_folder), 1)\n",
        "\n",
        "  # Read in the image and plot it using matplotlib\n",
        "  img = mpimg.imread(target_folder + \"/\" + random_image[0])\n",
        "  plt.imshow(img)\n",
        "  plt.title(target_class)\n",
        "  plt.axis(\"off\");\n",
        "\n",
        "  print(f\"Image shape: {img.shape}\") # show the shape of the image\n",
        "\n",
        "  return img"
      ],
      "execution_count": 26,
      "outputs": []
    },
    {
      "cell_type": "code",
      "metadata": {
        "colab": {
          "base_uri": "https://localhost:8080/",
          "height": 281
        },
        "id": "3sUCa2WyTHLv",
        "outputId": "a813f076-39c6-4ec3-a357-dced8a63c247"
      },
      "source": [
        "# View a random image \n",
        "img = view_random_image(target_dir=\"/content/Xray images dataset/Dataset/\",\n",
        "                        target_class=\"1\")"
      ],
      "execution_count": 27,
      "outputs": [
        {
          "output_type": "stream",
          "name": "stdout",
          "text": [
            "Image shape: (1764, 2093)\n"
          ]
        },
        {
          "output_type": "display_data",
          "data": {
            "image/png": "[encoded data removed]",
            "text/plain": [
              "<Figure size 432x288 with 1 Axes>"
            ]
          },
          "metadata": {
            "needs_background": "light"
          }
        }
      ]
    },
    {
      "cell_type": "code",
      "metadata": {
        "colab": {
          "base_uri": "https://localhost:8080/"
        },
        "id": "xCuZrsuPtiZr",
        "outputId": "8d2a4e25-a239-4424-befd-5ec435dd0241"
      },
      "source": [
        "# Setup data inputs\n",
        "import tensorflow as tf\n",
        "IMG_SIZE = (224, 224)\n",
        "train_data = tf.keras.preprocessing.image_dataset_from_directory(train,label_mode=\"categorical\",\n",
        "                                                                image_size=IMG_SIZE)\n",
        "                                                                                \n",
        "test_data = tf.keras.preprocessing.image_dataset_from_directory(test,\n",
        "                                                                label_mode=\"categorical\",\n",
        "                                                                image_size=IMG_SIZE,\n",
        "                                                                shuffle=False) # don't shuffle test data for prediction analysis"
      ],
      "execution_count": 28,
      "outputs": [
        {
          "output_type": "stream",
          "name": "stdout",
          "text": [
            "Found 532 files belonging to 4 classes.\n",
            "Found 40 files belonging to 4 classes.\n"
          ]
        }
      ]
    },
    {
      "cell_type": "code",
      "metadata": {
        "id": "MB9O7T2ytiT-"
      },
      "source": [
        "path = \"Xray image dataset checkpoint\"\n",
        "checkpoint_callback = tf.keras.callbacks.ModelCheckpoint(path,\n",
        "                                                         save_weights_only=True, # save only the model weights\n",
        "                                                         monitor=\"val_accuracy\", # save the model weights which score the best validation accuracy\n",
        "                                                         save_best_only=True) # only keep the best model weights on file (delete the rest)"
      ],
      "execution_count": 29,
      "outputs": []
    },
    {
      "cell_type": "markdown",
      "metadata": {
        "id": "73FsMdmqwMKG"
      },
      "source": [
        "** Building EfficientN0 Model **\n"
      ]
    },
    {
      "cell_type": "code",
      "metadata": {
        "id": "lTGD6awEtiA-",
        "colab": {
          "base_uri": "https://localhost:8080/"
        },
        "outputId": "0d5784dd-cbcd-46b8-f493-d889870c4d86"
      },
      "source": [
        "from tensorflow.keras import layers\n",
        "# 1. Create base model with tf.keras.applications\n",
        "base_model = tf.keras.applications.EfficientNetB0(include_top=False)\n",
        "\n",
        "# 2. Freeze the base model (so the pre-learned patterns remain)\n",
        "base_model.trainable = False\n",
        "\n",
        "# 3. Create inputs into the base model\n",
        "inputs = tf.keras.layers.Input(shape=(224, 224, 3), name=\"input_layer\")\n",
        "\n",
        "# 4. Pass the inputs to the base_model (note: using tf.keras.applications, EfficientNet inputs don't have to be normalized)\n",
        "x = base_model(inputs)\n",
        "\n",
        "# 5. Average pool the outputs of the base model (aggregate all the most important information, reduce number of computations)\n",
        "x = tf.keras.layers.GlobalAveragePooling2D(name=\"global_average_pooling_layer\")(x)\n",
        "\n",
        "# 6. Create the output activation layer\n",
        "outputs = tf.keras.layers.Dense(4, activation=\"softmax\", name=\"output_layer\")(x)\n",
        "\n",
        "# Creating mode_1\n",
        "model_1 = tf.keras.Model(inputs, outputs)"
      ],
      "execution_count": 30,
      "outputs": [
        {
          "output_type": "stream",
          "name": "stdout",
          "text": [
            "Downloading data from https://storage.googleapis.com/keras-applications/efficientnetb0_notop.h5\n",
            "16711680/16705208 [==============================] - 0s 0us/step\n",
            "16719872/16705208 [==============================] - 0s 0us/step\n"
          ]
        }
      ]
    },
    {
      "cell_type": "code",
      "metadata": {
        "colab": {
          "base_uri": "https://localhost:8080/"
        },
        "id": "tgzKEtKtv90s",
        "outputId": "1a36f6c6-8e5a-439d-873f-52b6a7323c91"
      },
      "source": [
        "# Compile the model\n",
        "model_1.compile(loss='categorical_crossentropy',\n",
        "              optimizer=tf.keras.optimizers.Adam(),\n",
        "              metrics=[\"accuracy\"])\n",
        "\n",
        "# Fit the model \n",
        "history_1 = model_1.fit(train_data,\n",
        "                        epochs=5,\n",
        "                        validation_data=test_data,\n",
        "                        validation_steps=int(0.25 * len(test_data)))"
      ],
      "execution_count": 31,
      "outputs": [
        {
          "output_type": "stream",
          "name": "stdout",
          "text": [
            "Epoch 1/5\n",
            "17/17 [==============================] - 22s 242ms/step - loss: 1.1800 - accuracy: 0.5282\n",
            "Epoch 2/5\n",
            "17/17 [==============================] - 5s 212ms/step - loss: 0.8182 - accuracy: 0.7650\n",
            "Epoch 3/5\n",
            "17/17 [==============================] - 5s 206ms/step - loss: 0.6530 - accuracy: 0.8252\n",
            "Epoch 4/5\n",
            "17/17 [==============================] - 5s 205ms/step - loss: 0.5538 - accuracy: 0.8421\n",
            "Epoch 5/5\n",
            "17/17 [==============================] - 5s 205ms/step - loss: 0.4983 - accuracy: 0.8722\n"
          ]
        }
      ]
    },
    {
      "cell_type": "code",
      "metadata": {
        "colab": {
          "base_uri": "https://localhost:8080/"
        },
        "id": "VRnMjg7Mv9xy",
        "outputId": "7ec8c0e5-9a85-47b3-ea44-bde128f1c856"
      },
      "source": [
        "model_1.evaluate(test_data)"
      ],
      "execution_count": 32,
      "outputs": [
        {
          "output_type": "stream",
          "name": "stdout",
          "text": [
            "2/2 [==============================] - 3s 498ms/step - loss: 0.7575 - accuracy: 0.7500\n"
          ]
        },
        {
          "output_type": "execute_result",
          "data": {
            "text/plain": [
              "[0.7574571967124939, 0.75]"
            ]
          },
          "metadata": {},
          "execution_count": 32
        }
      ]
    },
    {
      "cell_type": "code",
      "metadata": {
        "id": "Q1s6TsJ7v9vB"
      },
      "source": [
        "from tensorflow.keras.layers.experimental import preprocessing\n",
        "from tensorflow.keras.models import Sequential\n",
        "\n",
        "# Setup data augmentation\n",
        "data_augmentation = Sequential([\n",
        "  preprocessing.RandomFlip(\"horizontal\"), # randomly flip images on horizontal edge\n",
        "  preprocessing.RandomRotation(0.2), # randomly rotate images by a specific amount\n",
        "  preprocessing.RandomHeight(0.2), # randomly adjust the height of an image by a specific amount\n",
        "  preprocessing.RandomWidth(0.2), # randomly adjust the width of an image by a specific amount\n",
        "  preprocessing.RandomZoom(0.2), # randomly zoom into an image\n",
        "], name=\"data_augmentation\")"
      ],
      "execution_count": 33,
      "outputs": []
    },
    {
      "cell_type": "code",
      "metadata": {
        "colab": {
          "base_uri": "https://localhost:8080/"
        },
        "id": "YLs7NRNTv9r6",
        "outputId": "2ec44a03-e228-4e73-f5e0-9908efcddfed"
      },
      "source": [
        "# Setup base model and freeze its layers (this will extract features)\n",
        "base_model = tf.keras.applications.EfficientNetB0(include_top=False)\n",
        "base_model.trainable = False\n",
        "\n",
        "# Setup model architecture with trainable top layers\n",
        "inputs = layers.Input(shape=(224, 224, 3), name=\"input_layer\") # shape of input image\n",
        "x = data_augmentation(inputs) # augment images (only happens during training)\n",
        "x = base_model(x, training=False) # put the base model in inference mode so we can use it to extract features without updating the weights\n",
        "x = layers.GlobalAveragePooling2D(name=\"global_average_pooling\")(x) # pool the outputs of the base model\n",
        "outputs = layers.Dense(4, activation=\"softmax\", name=\"output_layer\")(x) # same number of outputs as classes\n",
        "model_2 = tf.keras.Model(inputs, outputs)\n",
        "\n",
        "# Compile\n",
        "model_2.compile(loss=\"categorical_crossentropy\",\n",
        "              optimizer=tf.keras.optimizers.Adam(), # use Adam with default settings\n",
        "              metrics=[\"accuracy\"])\n",
        "\n",
        "# Fit\n",
        "history_2 = model_2.fit(train_data, epochs=5, validation_steps=int(0.15 * len(test_data)), callbacks=[checkpoint_callback]) "
      ],
      "execution_count": 34,
      "outputs": [
        {
          "output_type": "stream",
          "name": "stdout",
          "text": [
            "Epoch 1/5\n",
            "17/17 [==============================] - ETA: 0s - loss: 1.2272 - accuracy: 0.4605WARNING:tensorflow:Can save best model only with val_accuracy available, skipping.\n",
            "17/17 [==============================] - 19s 591ms/step - loss: 1.2272 - accuracy: 0.4605\n",
            "Epoch 2/5\n",
            "17/17 [==============================] - ETA: 0s - loss: 0.9006 - accuracy: 0.7068WARNING:tensorflow:Can save best model only with val_accuracy available, skipping.\n",
            "17/17 [==============================] - 11s 547ms/step - loss: 0.9006 - accuracy: 0.7068\n",
            "Epoch 3/5\n",
            "17/17 [==============================] - ETA: 0s - loss: 0.7259 - accuracy: 0.7801WARNING:tensorflow:Can save best model only with val_accuracy available, skipping.\n",
            "17/17 [==============================] - 10s 505ms/step - loss: 0.7259 - accuracy: 0.7801\n",
            "Epoch 4/5\n",
            "17/17 [==============================] - ETA: 0s - loss: 0.6588 - accuracy: 0.7951WARNING:tensorflow:Can save best model only with val_accuracy available, skipping.\n",
            "17/17 [==============================] - 10s 475ms/step - loss: 0.6588 - accuracy: 0.7951\n",
            "Epoch 5/5\n",
            "17/17 [==============================] - ETA: 0s - loss: 0.5939 - accuracy: 0.8233WARNING:tensorflow:Can save best model only with val_accuracy available, skipping.\n",
            "17/17 [==============================] - 10s 491ms/step - loss: 0.5939 - accuracy: 0.8233\n"
          ]
        }
      ]
    },
    {
      "cell_type": "code",
      "metadata": {
        "colab": {
          "base_uri": "https://localhost:8080/"
        },
        "id": "KemmSdt7v9oi",
        "outputId": "b98fd522-fb94-4980-f24b-71d35807de14"
      },
      "source": [
        "model_2.evaluate(test_data)"
      ],
      "execution_count": 35,
      "outputs": [
        {
          "output_type": "stream",
          "name": "stdout",
          "text": [
            "2/2 [==============================] - 2s 66ms/step - loss: 0.8447 - accuracy: 0.6750\n"
          ]
        },
        {
          "output_type": "execute_result",
          "data": {
            "text/plain": [
              "[0.8447172045707703, 0.675000011920929]"
            ]
          },
          "metadata": {},
          "execution_count": 35
        }
      ]
    },
    {
      "cell_type": "code",
      "metadata": {
        "colab": {
          "base_uri": "https://localhost:8080/"
        },
        "id": "ktlBkgzEv9lE",
        "outputId": "59529536-7b6b-47a5-835c-7ab59fcc3401"
      },
      "source": [
        "# Check which layers are tuneable (trainable)\n",
        "for layer_number, layer in enumerate(base_model.layers):\n",
        "  print(layer_number, layer.name, layer.trainable)"
      ],
      "execution_count": 36,
      "outputs": [
        {
          "output_type": "stream",
          "name": "stdout",
          "text": [
            "0 input_2 False\n",
            "1 rescaling_1 False\n",
            "2 normalization_1 False\n",
            "3 stem_conv_pad False\n",
            "4 stem_conv False\n",
            "5 stem_bn False\n",
            "6 stem_activation False\n",
            "7 block1a_dwconv False\n",
            "8 block1a_bn False\n",
            "9 block1a_activation False\n",
            "10 block1a_se_squeeze False\n",
            "11 block1a_se_reshape False\n",
            "12 block1a_se_reduce False\n",
            "13 block1a_se_expand False\n",
            "14 block1a_se_excite False\n",
            "15 block1a_project_conv False\n",
            "16 block1a_project_bn False\n",
            "17 block2a_expand_conv False\n",
            "18 block2a_expand_bn False\n",
            "19 block2a_expand_activation False\n",
            "20 block2a_dwconv_pad False\n",
            "21 block2a_dwconv False\n",
            "22 block2a_bn False\n",
            "23 block2a_activation False\n",
            "24 block2a_se_squeeze False\n",
            "25 block2a_se_reshape False\n",
            "26 block2a_se_reduce False\n",
            "27 block2a_se_expand False\n",
            "28 block2a_se_excite False\n",
            "29 block2a_project_conv False\n",
            "30 block2a_project_bn False\n",
            "31 block2b_expand_conv False\n",
            "32 block2b_expand_bn False\n",
            "33 block2b_expand_activation False\n",
            "34 block2b_dwconv False\n",
            "35 block2b_bn False\n",
            "36 block2b_activation False\n",
            "37 block2b_se_squeeze False\n",
            "38 block2b_se_reshape False\n",
            "39 block2b_se_reduce False\n",
            "40 block2b_se_expand False\n",
            "41 block2b_se_excite False\n",
            "42 block2b_project_conv False\n",
            "43 block2b_project_bn False\n",
            "44 block2b_drop False\n",
            "45 block2b_add False\n",
            "46 block3a_expand_conv False\n",
            "47 block3a_expand_bn False\n",
            "48 block3a_expand_activation False\n",
            "49 block3a_dwconv_pad False\n",
            "50 block3a_dwconv False\n",
            "51 block3a_bn False\n",
            "52 block3a_activation False\n",
            "53 block3a_se_squeeze False\n",
            "54 block3a_se_reshape False\n",
            "55 block3a_se_reduce False\n",
            "56 block3a_se_expand False\n",
            "57 block3a_se_excite False\n",
            "58 block3a_project_conv False\n",
            "59 block3a_project_bn False\n",
            "60 block3b_expand_conv False\n",
            "61 block3b_expand_bn False\n",
            "62 block3b_expand_activation False\n",
            "63 block3b_dwconv False\n",
            "64 block3b_bn False\n",
            "65 block3b_activation False\n",
            "66 block3b_se_squeeze False\n",
            "67 block3b_se_reshape False\n",
            "68 block3b_se_reduce False\n",
            "69 block3b_se_expand False\n",
            "70 block3b_se_excite False\n",
            "71 block3b_project_conv False\n",
            "72 block3b_project_bn False\n",
            "73 block3b_drop False\n",
            "74 block3b_add False\n",
            "75 block4a_expand_conv False\n",
            "76 block4a_expand_bn False\n",
            "77 block4a_expand_activation False\n",
            "78 block4a_dwconv_pad False\n",
            "79 block4a_dwconv False\n",
            "80 block4a_bn False\n",
            "81 block4a_activation False\n",
            "82 block4a_se_squeeze False\n",
            "83 block4a_se_reshape False\n",
            "84 block4a_se_reduce False\n",
            "85 block4a_se_expand False\n",
            "86 block4a_se_excite False\n",
            "87 block4a_project_conv False\n",
            "88 block4a_project_bn False\n",
            "89 block4b_expand_conv False\n",
            "90 block4b_expand_bn False\n",
            "91 block4b_expand_activation False\n",
            "92 block4b_dwconv False\n",
            "93 block4b_bn False\n",
            "94 block4b_activation False\n",
            "95 block4b_se_squeeze False\n",
            "96 block4b_se_reshape False\n",
            "97 block4b_se_reduce False\n",
            "98 block4b_se_expand False\n",
            "99 block4b_se_excite False\n",
            "100 block4b_project_conv False\n",
            "101 block4b_project_bn False\n",
            "102 block4b_drop False\n",
            "103 block4b_add False\n",
            "104 block4c_expand_conv False\n",
            "105 block4c_expand_bn False\n",
            "106 block4c_expand_activation False\n",
            "107 block4c_dwconv False\n",
            "108 block4c_bn False\n",
            "109 block4c_activation False\n",
            "110 block4c_se_squeeze False\n",
            "111 block4c_se_reshape False\n",
            "112 block4c_se_reduce False\n",
            "113 block4c_se_expand False\n",
            "114 block4c_se_excite False\n",
            "115 block4c_project_conv False\n",
            "116 block4c_project_bn False\n",
            "117 block4c_drop False\n",
            "118 block4c_add False\n",
            "119 block5a_expand_conv False\n",
            "120 block5a_expand_bn False\n",
            "121 block5a_expand_activation False\n",
            "122 block5a_dwconv False\n",
            "123 block5a_bn False\n",
            "124 block5a_activation False\n",
            "125 block5a_se_squeeze False\n",
            "126 block5a_se_reshape False\n",
            "127 block5a_se_reduce False\n",
            "128 block5a_se_expand False\n",
            "129 block5a_se_excite False\n",
            "130 block5a_project_conv False\n",
            "131 block5a_project_bn False\n",
            "132 block5b_expand_conv False\n",
            "133 block5b_expand_bn False\n",
            "134 block5b_expand_activation False\n",
            "135 block5b_dwconv False\n",
            "136 block5b_bn False\n",
            "137 block5b_activation False\n",
            "138 block5b_se_squeeze False\n",
            "139 block5b_se_reshape False\n",
            "140 block5b_se_reduce False\n",
            "141 block5b_se_expand False\n",
            "142 block5b_se_excite False\n",
            "143 block5b_project_conv False\n",
            "144 block5b_project_bn False\n",
            "145 block5b_drop False\n",
            "146 block5b_add False\n",
            "147 block5c_expand_conv False\n",
            "148 block5c_expand_bn False\n",
            "149 block5c_expand_activation False\n",
            "150 block5c_dwconv False\n",
            "151 block5c_bn False\n",
            "152 block5c_activation False\n",
            "153 block5c_se_squeeze False\n",
            "154 block5c_se_reshape False\n",
            "155 block5c_se_reduce False\n",
            "156 block5c_se_expand False\n",
            "157 block5c_se_excite False\n",
            "158 block5c_project_conv False\n",
            "159 block5c_project_bn False\n",
            "160 block5c_drop False\n",
            "161 block5c_add False\n",
            "162 block6a_expand_conv False\n",
            "163 block6a_expand_bn False\n",
            "164 block6a_expand_activation False\n",
            "165 block6a_dwconv_pad False\n",
            "166 block6a_dwconv False\n",
            "167 block6a_bn False\n",
            "168 block6a_activation False\n",
            "169 block6a_se_squeeze False\n",
            "170 block6a_se_reshape False\n",
            "171 block6a_se_reduce False\n",
            "172 block6a_se_expand False\n",
            "173 block6a_se_excite False\n",
            "174 block6a_project_conv False\n",
            "175 block6a_project_bn False\n",
            "176 block6b_expand_conv False\n",
            "177 block6b_expand_bn False\n",
            "178 block6b_expand_activation False\n",
            "179 block6b_dwconv False\n",
            "180 block6b_bn False\n",
            "181 block6b_activation False\n",
            "182 block6b_se_squeeze False\n",
            "183 block6b_se_reshape False\n",
            "184 block6b_se_reduce False\n",
            "185 block6b_se_expand False\n",
            "186 block6b_se_excite False\n",
            "187 block6b_project_conv False\n",
            "188 block6b_project_bn False\n",
            "189 block6b_drop False\n",
            "190 block6b_add False\n",
            "191 block6c_expand_conv False\n",
            "192 block6c_expand_bn False\n",
            "193 block6c_expand_activation False\n",
            "194 block6c_dwconv False\n",
            "195 block6c_bn False\n",
            "196 block6c_activation False\n",
            "197 block6c_se_squeeze False\n",
            "198 block6c_se_reshape False\n",
            "199 block6c_se_reduce False\n",
            "200 block6c_se_expand False\n",
            "201 block6c_se_excite False\n",
            "202 block6c_project_conv False\n",
            "203 block6c_project_bn False\n",
            "204 block6c_drop False\n",
            "205 block6c_add False\n",
            "206 block6d_expand_conv False\n",
            "207 block6d_expand_bn False\n",
            "208 block6d_expand_activation False\n",
            "209 block6d_dwconv False\n",
            "210 block6d_bn False\n",
            "211 block6d_activation False\n",
            "212 block6d_se_squeeze False\n",
            "213 block6d_se_reshape False\n",
            "214 block6d_se_reduce False\n",
            "215 block6d_se_expand False\n",
            "216 block6d_se_excite False\n",
            "217 block6d_project_conv False\n",
            "218 block6d_project_bn False\n",
            "219 block6d_drop False\n",
            "220 block6d_add False\n",
            "221 block7a_expand_conv False\n",
            "222 block7a_expand_bn False\n",
            "223 block7a_expand_activation False\n",
            "224 block7a_dwconv False\n",
            "225 block7a_bn False\n",
            "226 block7a_activation False\n",
            "227 block7a_se_squeeze False\n",
            "228 block7a_se_reshape False\n",
            "229 block7a_se_reduce False\n",
            "230 block7a_se_expand False\n",
            "231 block7a_se_excite False\n",
            "232 block7a_project_conv False\n",
            "233 block7a_project_bn False\n",
            "234 top_conv False\n",
            "235 top_bn False\n",
            "236 top_activation False\n"
          ]
        }
      ]
    },
    {
      "cell_type": "code",
      "metadata": {
        "id": "2hQhYDbR2c17"
      },
      "source": [
        "base_model.trainable = True\n",
        "\n",
        "# Freeze all layers except for the\n",
        "for layer in base_model.layers[:-10]:\n",
        "  layer.trainable = False"
      ],
      "execution_count": 37,
      "outputs": []
    },
    {
      "cell_type": "code",
      "metadata": {
        "colab": {
          "base_uri": "https://localhost:8080/"
        },
        "id": "n9SptGC52cri",
        "outputId": "061cf19f-1a19-462c-c828-33787e579c68"
      },
      "source": [
        "# Recompile the model (always recompile after any adjustments to a model)\n",
        "model_2.compile(loss=\"categorical_crossentropy\",\n",
        "              optimizer=tf.keras.optimizers.Adam(lr=0.0001), # lr is 10x lower than before for fine-tuning\n",
        "              metrics=[\"accuracy\"])"
      ],
      "execution_count": 38,
      "outputs": [
        {
          "output_type": "stream",
          "name": "stderr",
          "text": [
            "/usr/local/lib/python3.7/dist-packages/keras/optimizer_v2/adam.py:105: UserWarning: The `lr` argument is deprecated, use `learning_rate` instead.\n",
            "  super(Adam, self).__init__(name, **kwargs)\n"
          ]
        }
      ]
    },
    {
      "cell_type": "code",
      "metadata": {
        "colab": {
          "base_uri": "https://localhost:8080/"
        },
        "id": "c_21RPgD2cgx",
        "outputId": "c5c96600-f58b-406c-cd1e-27b4a30406e9"
      },
      "source": [
        "history_3 = model_2.fit(train_data, epochs=5, validation_steps=int(0.15 * len(test_data)), callbacks=[checkpoint_callback]) "
      ],
      "execution_count": 40,
      "outputs": [
        {
          "output_type": "stream",
          "name": "stdout",
          "text": [
            "Epoch 1/5\n",
            "17/17 [==============================] - ETA: 0s - loss: 0.3843 - accuracy: 0.8835WARNING:tensorflow:Can save best model only with val_accuracy available, skipping.\n",
            "17/17 [==============================] - 9s 409ms/step - loss: 0.3843 - accuracy: 0.8835\n",
            "Epoch 2/5\n",
            "17/17 [==============================] - ETA: 0s - loss: 0.3755 - accuracy: 0.8703WARNING:tensorflow:Can save best model only with val_accuracy available, skipping.\n",
            "17/17 [==============================] - 9s 451ms/step - loss: 0.3755 - accuracy: 0.8703\n",
            "Epoch 3/5\n",
            "17/17 [==============================] - ETA: 0s - loss: 0.3749 - accuracy: 0.8665WARNING:tensorflow:Can save best model only with val_accuracy available, skipping.\n",
            "17/17 [==============================] - 10s 473ms/step - loss: 0.3749 - accuracy: 0.8665\n",
            "Epoch 4/5\n",
            "17/17 [==============================] - ETA: 0s - loss: 0.3647 - accuracy: 0.8628WARNING:tensorflow:Can save best model only with val_accuracy available, skipping.\n",
            "17/17 [==============================] - 10s 476ms/step - loss: 0.3647 - accuracy: 0.8628\n",
            "Epoch 5/5\n",
            "17/17 [==============================] - ETA: 0s - loss: 0.3171 - accuracy: 0.8872WARNING:tensorflow:Can save best model only with val_accuracy available, skipping.\n",
            "17/17 [==============================] - 9s 446ms/step - loss: 0.3171 - accuracy: 0.8872\n"
          ]
        }
      ]
    },
    {
      "cell_type": "code",
      "metadata": {
        "colab": {
          "base_uri": "https://localhost:8080/"
        },
        "id": "APM9r3Cgv9cN",
        "outputId": "cab35a3b-81ec-4cf3-a5e3-f2ba70b41e74"
      },
      "source": [
        "model_2.evaluate(test_data)"
      ],
      "execution_count": 41,
      "outputs": [
        {
          "output_type": "stream",
          "name": "stdout",
          "text": [
            "2/2 [==============================] - 2s 69ms/step - loss: 0.8985 - accuracy: 0.6500\n"
          ]
        },
        {
          "output_type": "execute_result",
          "data": {
            "text/plain": [
              "[0.8984800577163696, 0.6499999761581421]"
            ]
          },
          "metadata": {},
          "execution_count": 41
        }
      ]
    },
    {
      "cell_type": "code",
      "metadata": {
        "colab": {
          "base_uri": "https://localhost:8080/"
        },
        "id": "SWlFk6IU6AcP",
        "outputId": "bdf70646-a91d-45a6-f066-92a3252786c5"
      },
      "source": [
        "import tensorflow as tf\n",
        "from tensorflow.keras.models import Sequential\n",
        "from tensorflow.keras.layers import Conv2D, MaxPool2D, Flatten, Dense\n",
        "model_4 = Sequential([\n",
        "  Conv2D(8, 3, activation='relu', input_shape=(224, 224, 3)),\n",
        "  MaxPool2D(),\n",
        "  Conv2D(16, 3, activation='relu'),\n",
        "  MaxPool2D(),\n",
        "  Conv2D(16, 3, activation='relu'),\n",
        "  MaxPool2D(),\n",
        "\n",
        "  Flatten(),\n",
        "  Dense(32, activation=\"relu\"),\n",
        "  Dense(4, activation='softmax')\n",
        "])\n",
        "\n",
        "# Compile the model\n",
        "model_4.compile(loss=\"categorical_crossentropy\", # changed to categorical_crossentropy\n",
        "                optimizer=tf.keras.optimizers.Adam(),\n",
        "                metrics=[\"accuracy\"])\n",
        "# Fit the model\n",
        "history_4 = model_4.fit(train_data, epochs=5, steps_per_epoch=len(train_data),\n",
        "                        validation_data=test_data,\n",
        "                        validation_steps=len(test_data))\n"
      ],
      "execution_count": 42,
      "outputs": [
        {
          "output_type": "stream",
          "name": "stdout",
          "text": [
            "Epoch 1/5\n",
            "17/17 [==============================] - 6s 196ms/step - loss: 28.3743 - accuracy: 0.3233 - val_loss: 1.3021 - val_accuracy: 0.3500\n",
            "Epoch 2/5\n",
            "17/17 [==============================] - 5s 172ms/step - loss: 1.1449 - accuracy: 0.4718 - val_loss: 1.1366 - val_accuracy: 0.4750\n",
            "Epoch 3/5\n",
            "17/17 [==============================] - 5s 170ms/step - loss: 1.0937 - accuracy: 0.4887 - val_loss: 1.1063 - val_accuracy: 0.4750\n",
            "Epoch 4/5\n",
            "17/17 [==============================] - 5s 172ms/step - loss: 1.0637 - accuracy: 0.4906 - val_loss: 1.0642 - val_accuracy: 0.4750\n",
            "Epoch 5/5\n",
            "17/17 [==============================] - 5s 171ms/step - loss: 1.0675 - accuracy: 0.4906 - val_loss: 1.1406 - val_accuracy: 0.4750\n"
          ]
        }
      ]
    },
    {
      "cell_type": "code",
      "metadata": {
        "id": "oWzkOTYHT3WI"
      },
      "source": [
        "# Create a function to import an image and resize it to be able to be used with our model\n",
        "def load_and_prep_image(filename, img_shape=224):\n",
        "  \n",
        "  # Read in target file (an image)\n",
        "  img = tf.io.read_file(filename)\n",
        "\n",
        "  # Decode the read file into a tensor & ensure 3 colour channels \n",
        "  img = tf.image.decode_image(img, channels=3)\n",
        "\n",
        "  # Resize the image (to the same size our model was trained on\n",
        "  img = tf.image.resize(img, size = [img_shape, img_shape])\n",
        "\n",
        "  # Rescale the image (get all values between 0 and 1)\n",
        "  img = img/255.\n",
        "  return img"
      ],
      "execution_count": 43,
      "outputs": []
    },
    {
      "cell_type": "code",
      "metadata": {
        "id": "X1rqwNgxUErF"
      },
      "source": [
        "def pred_and_plot(model, filename):\n",
        "  \n",
        "  # Import the target image and preprocess it\n",
        "  img = load_and_prep_image(filename)\n",
        "\n",
        "  # Make a prediction\n",
        "  pred = model.predict(tf.expand_dims(img, axis=0))\n",
        "  preds=pred.round()\n",
        "  # Plot the image and predicted class\n",
        "  plt.imshow(img)\n",
        "  plt.title(f\"Prediction: {preds}\")\n",
        "  plt.axis(False)"
      ],
      "execution_count": 54,
      "outputs": []
    },
    {
      "cell_type": "code",
      "metadata": {
        "colab": {
          "base_uri": "https://localhost:8080/",
          "height": 264
        },
        "id": "awHgHrZRUEjD",
        "outputId": "73c4fe2e-b2b5-4ede-e85b-0b4acdf06880"
      },
      "source": [
        "# Test our model \n",
        "pred_and_plot(model_1, \"/content/Xray images dataset/Dataset/0/1-s2.0-S0929664620300449-gr2_lrg-b.jpg\")"
      ],
      "execution_count": 55,
      "outputs": [
        {
          "output_type": "display_data",
          "data": {
            "image/png": "[encoded data removed]",
            "text/plain": [
              "<Figure size 432x288 with 1 Axes>"
            ]
          },
          "metadata": {
            "needs_background": "light"
          }
        }
      ]
    }
  ]
}